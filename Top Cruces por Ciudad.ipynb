{
 "cells": [
  {
   "cell_type": "code",
   "execution_count": 15,
   "metadata": {
    "collapsed": true
   },
   "outputs": [],
   "source": [
    "import pandas as pd\n",
    "import numpy as np\n",
    "import pickle"
   ]
  },
  {
   "cell_type": "code",
   "execution_count": 21,
   "metadata": {},
   "outputs": [],
   "source": [
    "data = pickle.load(open(\"data.pickle\",\"rb\"))"
   ]
  },
  {
   "cell_type": "code",
   "execution_count": 35,
   "metadata": {
    "collapsed": true
   },
   "outputs": [],
   "source": [
    "data.to_csv(\"data_csv.csv\")"
   ]
  },
  {
   "cell_type": "code",
   "execution_count": 22,
   "metadata": {
    "collapsed": true
   },
   "outputs": [],
   "source": [
    "lista_cruces = []\n",
    "for value in data.iterrows():\n",
    "    string = (str(value[1][\"Calle\"])+ \" \" +str(value[1][\"Cruce\"])).split()\n",
    "    string.sort()\n",
    "    string = \" \".join(string)\n",
    "    lista_cruces.append(string)"
   ]
  },
  {
   "cell_type": "code",
   "execution_count": 23,
   "metadata": {
    "collapsed": true
   },
   "outputs": [],
   "source": [
    "data[\"Cruces\"] = lista_cruces"
   ]
  },
  {
   "cell_type": "code",
   "execution_count": 30,
   "metadata": {},
   "outputs": [
    {
     "name": "stdout",
     "output_type": "stream",
     "text": [
      "['apodaca' 'escobedo' 'garcia' 'guadalupe' 'san nicolas' 'san pedro'\n",
      " 'santa catarina' 'nan' 'monterrey' '']\n",
      "apodaca\n",
      "escobedo\n",
      "garcia\n",
      "guadalupe\n",
      "san nicolas\n",
      "san pedro\n",
      "santa catarina\n",
      "nan\n",
      "monterrey\n",
      "\n"
     ]
    }
   ],
   "source": [
    "top_cruces = []\n",
    "print(data[\"Ciudad\"].unique())\n",
    "for ciudad in data[\"Ciudad\"].unique():\n",
    "    print(ciudad)\n",
    "    data_ciudad = data[data[\"Ciudad\"] == ciudad]\n",
    "    count_cruces = data_ciudad[\"Cruces\"].value_counts()\n",
    "    keys_cruces = count_cruces.keys()\n",
    "    ciudad_doc = {}\n",
    "    if len(keys_cruces)>4:\n",
    "        ciudad_doc = {\"Ciudad\": ciudad, \n",
    "                      \"1-key\": keys_cruces[0],\n",
    "                     \"1-counts\": count_cruces[keys_cruces[0]],\n",
    "                      \"2-key\": keys_cruces[1],\n",
    "                     \"2-counts\": count_cruces[keys_cruces[1]],  \n",
    "                      \"3-key\": keys_cruces[2],\n",
    "                     \"3-counts\": count_cruces[keys_cruces[2]],  \n",
    "                      \"4-key\": keys_cruces[3],\n",
    "                     \"4-counts\": count_cruces[keys_cruces[3]],                    \n",
    "                      \"5-key\": keys_cruces[4],\n",
    "                     \"5-counts\": count_cruces[keys_cruces[4]],            \n",
    "        }\n",
    "    top_cruces.append(ciudad_doc)"
   ]
  },
  {
   "cell_type": "code",
   "execution_count": 38,
   "metadata": {},
   "outputs": [],
   "source": [
    "pd.DataFrame(top_cruces).dropna(axis=0).to_excel(\"wat.xlsx\")"
   ]
  },
  {
   "cell_type": "code",
   "execution_count": null,
   "metadata": {
    "collapsed": true
   },
   "outputs": [],
   "source": []
  }
 ],
 "metadata": {
  "kernelspec": {
   "display_name": "Python 3",
   "language": "python",
   "name": "python3"
  },
  "language_info": {
   "codemirror_mode": {
    "name": "ipython",
    "version": 3
   },
   "file_extension": ".py",
   "mimetype": "text/x-python",
   "name": "python",
   "nbconvert_exporter": "python",
   "pygments_lexer": "ipython3",
   "version": "3.6.1"
  }
 },
 "nbformat": 4,
 "nbformat_minor": 2
}
