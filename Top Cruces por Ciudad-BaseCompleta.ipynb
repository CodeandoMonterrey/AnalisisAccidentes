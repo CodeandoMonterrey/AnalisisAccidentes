{
 "cells": [
  {
   "cell_type": "code",
   "execution_count": 2,
   "metadata": {
    "collapsed": true
   },
   "outputs": [],
   "source": [
    "import pandas as pd\n",
    "import numpy as np\n",
    "import pickle"
   ]
  },
  {
   "cell_type": "code",
   "execution_count": 5,
   "metadata": {},
   "outputs": [
    {
     "name": "stderr",
     "output_type": "stream",
     "text": [
      "/usr/local/lib/python3.6/site-packages/IPython/core/interactiveshell.py:2717: DtypeWarning: Columns (9,12,13,16,21,28,32,33,34,35,36,37,40,41,42,43,44,45,46,49) have mixed types. Specify dtype option on import or set low_memory=False.\n",
      "  interactivity=interactivity, compiler=compiler, result=result)\n"
     ]
    }
   ],
   "source": [
    "data =pd.read_csv(\"All_data_limpia.csv\")"
   ]
  },
  {
   "cell_type": "code",
   "execution_count": 6,
   "metadata": {
    "collapsed": true
   },
   "outputs": [],
   "source": [
    "lista_cruces = []\n",
    "for value in data.iterrows():\n",
    "    string = (str(value[1][\"Calle\"])+ \" \" +str(value[1][\"Cruce\"])).split()\n",
    "    string.sort()\n",
    "    string = \" \".join(string)\n",
    "    lista_cruces.append(string)"
   ]
  },
  {
   "cell_type": "code",
   "execution_count": 7,
   "metadata": {
    "collapsed": true
   },
   "outputs": [],
   "source": [
    "data[\"Cruces\"] = lista_cruces"
   ]
  },
  {
   "cell_type": "code",
   "execution_count": 8,
   "metadata": {},
   "outputs": [
    {
     "name": "stdout",
     "output_type": "stream",
     "text": [
      "['Monterrey' 'San Nicolás' 'Guadalupe' 'Apodaca' 'Escobedo'\n",
      " 'Santa Catarina' 'San Pedro' 'García' nan ' ']\n",
      "Monterrey\n",
      "San Nicolás\n",
      "Guadalupe\n",
      "Apodaca\n",
      "Escobedo\n",
      "Santa Catarina\n",
      "San Pedro\n",
      "García\n",
      "nan\n",
      " \n"
     ]
    }
   ],
   "source": [
    "top_cruces = []\n",
    "print(data[\"Ciudad\"].unique())\n",
    "for ciudad in data[\"Ciudad\"].unique():\n",
    "    print(ciudad)\n",
    "    data_ciudad = data[data[\"Ciudad\"] == ciudad]\n",
    "    count_cruces = data_ciudad[\"Cruces\"].value_counts()\n",
    "    keys_cruces = count_cruces.keys()\n",
    "    ciudad_doc = {}\n",
    "    if len(keys_cruces)>4:\n",
    "        ciudad_doc = {\"Ciudad\": ciudad, \n",
    "                      \"1-key\": keys_cruces[0],\n",
    "                     \"1-counts\": count_cruces[keys_cruces[0]],\n",
    "                      \"2-key\": keys_cruces[1],\n",
    "                     \"2-counts\": count_cruces[keys_cruces[1]],  \n",
    "                      \"3-key\": keys_cruces[2],\n",
    "                     \"3-counts\": count_cruces[keys_cruces[2]],  \n",
    "                      \"4-key\": keys_cruces[3],\n",
    "                     \"4-counts\": count_cruces[keys_cruces[3]],                    \n",
    "                      \"5-key\": keys_cruces[4],\n",
    "                     \"5-counts\": count_cruces[keys_cruces[4]],            \n",
    "        }\n",
    "    top_cruces.append(ciudad_doc)"
   ]
  },
  {
   "cell_type": "code",
   "execution_count": 10,
   "metadata": {
    "collapsed": true
   },
   "outputs": [],
   "source": [
    "pd.DataFrame(top_cruces).dropna(axis=0).to_excel(\"Top5_ciudades.xlsx\")"
   ]
  },
  {
   "cell_type": "code",
   "execution_count": null,
   "metadata": {
    "collapsed": true
   },
   "outputs": [],
   "source": []
  }
 ],
 "metadata": {
  "kernelspec": {
   "display_name": "Python 3",
   "language": "python",
   "name": "python3"
  },
  "language_info": {
   "codemirror_mode": {
    "name": "ipython",
    "version": 3
   },
   "file_extension": ".py",
   "mimetype": "text/x-python",
   "name": "python",
   "nbconvert_exporter": "python",
   "pygments_lexer": "ipython3",
   "version": "3.6.1"
  }
 },
 "nbformat": 4,
 "nbformat_minor": 2
}
